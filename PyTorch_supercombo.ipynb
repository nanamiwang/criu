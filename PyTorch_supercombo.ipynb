{
  "nbformat": 4,
  "nbformat_minor": 0,
  "metadata": {
    "colab": {
      "name": "PyTorch supercombo.ipynb",
      "provenance": [],
      "collapsed_sections": [],
      "include_colab_link": true
    },
    "kernelspec": {
      "name": "python3",
      "display_name": "Python 3"
    },
    "language_info": {
      "name": "python"
    },
    "accelerator": "GPU"
  },
  "cells": [
    {
      "cell_type": "markdown",
      "metadata": {
        "id": "view-in-github",
        "colab_type": "text"
      },
      "source": [
        "<a href=\"https://colab.research.google.com/github/nanamiwang/criu/blob/master/PyTorch_supercombo.ipynb\" target=\"_parent\"><img src=\"https://colab.research.google.com/assets/colab-badge.svg\" alt=\"Open In Colab\"/></a>"
      ]
    },
    {
      "cell_type": "code",
      "source": [
        "!pip install onnx2pytorch onnx onnxruntime==1.4.0 onnxruntime-gpu onnx2keras "
      ],
      "metadata": {
        "colab": {
          "base_uri": "https://localhost:8080/"
        },
        "id": "q1je2M-T2LFH",
        "outputId": "c0102602-b7de-4ee1-f131-66a75e1b176d"
      },
      "execution_count": null,
      "outputs": [
        {
          "output_type": "stream",
          "name": "stdout",
          "text": [
            "Collecting onnx2pytorch\n",
            "  Downloading onnx2pytorch-0.4.1-py3-none-any.whl (44 kB)\n",
            "\u001b[K     |████████████████████████████████| 44 kB 1.6 MB/s \n",
            "\u001b[?25hCollecting onnx\n",
            "  Downloading onnx-1.10.2-cp37-cp37m-manylinux_2_12_x86_64.manylinux2010_x86_64.whl (12.7 MB)\n",
            "\u001b[K     |████████████████████████████████| 12.7 MB 9.1 MB/s \n",
            "\u001b[?25hCollecting onnxruntime==1.4.0\n",
            "  Downloading onnxruntime-1.4.0-cp37-cp37m-manylinux2010_x86_64.whl (4.4 MB)\n",
            "\u001b[K     |████████████████████████████████| 4.4 MB 33.8 MB/s \n",
            "\u001b[?25hCollecting onnxruntime-gpu\n",
            "  Downloading onnxruntime_gpu-1.10.0-cp37-cp37m-manylinux_2_17_x86_64.manylinux2014_x86_64.whl (104.8 MB)\n",
            "\u001b[K     |████████████████████████████████| 104.8 MB 94 kB/s \n",
            "\u001b[?25hCollecting onnx2keras\n",
            "  Downloading onnx2keras-0.0.24.tar.gz (20 kB)\n",
            "Requirement already satisfied: protobuf in /usr/local/lib/python3.7/dist-packages (from onnxruntime==1.4.0) (3.17.3)\n",
            "Requirement already satisfied: numpy>=1.16.6 in /usr/local/lib/python3.7/dist-packages (from onnxruntime==1.4.0) (1.19.5)\n",
            "Requirement already satisfied: torchvision>=0.9.0 in /usr/local/lib/python3.7/dist-packages (from onnx2pytorch) (0.11.1+cu111)\n",
            "Requirement already satisfied: torch>=1.4.0 in /usr/local/lib/python3.7/dist-packages (from onnx2pytorch) (1.10.0+cu111)\n",
            "Requirement already satisfied: six in /usr/local/lib/python3.7/dist-packages (from onnx) (1.15.0)\n",
            "Requirement already satisfied: typing-extensions>=3.6.2.1 in /usr/local/lib/python3.7/dist-packages (from onnx) (3.10.0.2)\n",
            "Requirement already satisfied: pillow!=8.3.0,>=5.3.0 in /usr/local/lib/python3.7/dist-packages (from torchvision>=0.9.0->onnx2pytorch) (7.1.2)\n",
            "Requirement already satisfied: flatbuffers in /usr/local/lib/python3.7/dist-packages (from onnxruntime-gpu) (2.0)\n",
            "Requirement already satisfied: tensorflow in /usr/local/lib/python3.7/dist-packages (from onnx2keras) (2.7.0)\n",
            "Requirement already satisfied: tensorflow-estimator<2.8,~=2.7.0rc0 in /usr/local/lib/python3.7/dist-packages (from tensorflow->onnx2keras) (2.7.0)\n",
            "Requirement already satisfied: wheel<1.0,>=0.32.0 in /usr/local/lib/python3.7/dist-packages (from tensorflow->onnx2keras) (0.37.0)\n",
            "Requirement already satisfied: absl-py>=0.4.0 in /usr/local/lib/python3.7/dist-packages (from tensorflow->onnx2keras) (0.12.0)\n",
            "Requirement already satisfied: grpcio<2.0,>=1.24.3 in /usr/local/lib/python3.7/dist-packages (from tensorflow->onnx2keras) (1.42.0)\n",
            "Requirement already satisfied: h5py>=2.9.0 in /usr/local/lib/python3.7/dist-packages (from tensorflow->onnx2keras) (3.1.0)\n",
            "Requirement already satisfied: google-pasta>=0.1.1 in /usr/local/lib/python3.7/dist-packages (from tensorflow->onnx2keras) (0.2.0)\n",
            "Requirement already satisfied: opt-einsum>=2.3.2 in /usr/local/lib/python3.7/dist-packages (from tensorflow->onnx2keras) (3.3.0)\n",
            "Requirement already satisfied: libclang>=9.0.1 in /usr/local/lib/python3.7/dist-packages (from tensorflow->onnx2keras) (12.0.0)\n",
            "Requirement already satisfied: keras<2.8,>=2.7.0rc0 in /usr/local/lib/python3.7/dist-packages (from tensorflow->onnx2keras) (2.7.0)\n",
            "Requirement already satisfied: keras-preprocessing>=1.1.1 in /usr/local/lib/python3.7/dist-packages (from tensorflow->onnx2keras) (1.1.2)\n",
            "Requirement already satisfied: tensorflow-io-gcs-filesystem>=0.21.0 in /usr/local/lib/python3.7/dist-packages (from tensorflow->onnx2keras) (0.22.0)\n",
            "Requirement already satisfied: tensorboard~=2.6 in /usr/local/lib/python3.7/dist-packages (from tensorflow->onnx2keras) (2.7.0)\n",
            "Requirement already satisfied: gast<0.5.0,>=0.2.1 in /usr/local/lib/python3.7/dist-packages (from tensorflow->onnx2keras) (0.4.0)\n",
            "Requirement already satisfied: termcolor>=1.1.0 in /usr/local/lib/python3.7/dist-packages (from tensorflow->onnx2keras) (1.1.0)\n",
            "Requirement already satisfied: wrapt>=1.11.0 in /usr/local/lib/python3.7/dist-packages (from tensorflow->onnx2keras) (1.13.3)\n",
            "Requirement already satisfied: astunparse>=1.6.0 in /usr/local/lib/python3.7/dist-packages (from tensorflow->onnx2keras) (1.6.3)\n",
            "Requirement already satisfied: cached-property in /usr/local/lib/python3.7/dist-packages (from h5py>=2.9.0->tensorflow->onnx2keras) (1.5.2)\n",
            "Requirement already satisfied: tensorboard-plugin-wit>=1.6.0 in /usr/local/lib/python3.7/dist-packages (from tensorboard~=2.6->tensorflow->onnx2keras) (1.8.0)\n",
            "Requirement already satisfied: setuptools>=41.0.0 in /usr/local/lib/python3.7/dist-packages (from tensorboard~=2.6->tensorflow->onnx2keras) (57.4.0)\n",
            "Requirement already satisfied: google-auth<3,>=1.6.3 in /usr/local/lib/python3.7/dist-packages (from tensorboard~=2.6->tensorflow->onnx2keras) (1.35.0)\n",
            "Requirement already satisfied: werkzeug>=0.11.15 in /usr/local/lib/python3.7/dist-packages (from tensorboard~=2.6->tensorflow->onnx2keras) (1.0.1)\n",
            "Requirement already satisfied: google-auth-oauthlib<0.5,>=0.4.1 in /usr/local/lib/python3.7/dist-packages (from tensorboard~=2.6->tensorflow->onnx2keras) (0.4.6)\n",
            "Requirement already satisfied: markdown>=2.6.8 in /usr/local/lib/python3.7/dist-packages (from tensorboard~=2.6->tensorflow->onnx2keras) (3.3.6)\n",
            "Requirement already satisfied: requests<3,>=2.21.0 in /usr/local/lib/python3.7/dist-packages (from tensorboard~=2.6->tensorflow->onnx2keras) (2.23.0)\n",
            "Requirement already satisfied: tensorboard-data-server<0.7.0,>=0.6.0 in /usr/local/lib/python3.7/dist-packages (from tensorboard~=2.6->tensorflow->onnx2keras) (0.6.1)\n",
            "Requirement already satisfied: pyasn1-modules>=0.2.1 in /usr/local/lib/python3.7/dist-packages (from google-auth<3,>=1.6.3->tensorboard~=2.6->tensorflow->onnx2keras) (0.2.8)\n",
            "Requirement already satisfied: rsa<5,>=3.1.4 in /usr/local/lib/python3.7/dist-packages (from google-auth<3,>=1.6.3->tensorboard~=2.6->tensorflow->onnx2keras) (4.8)\n",
            "Requirement already satisfied: cachetools<5.0,>=2.0.0 in /usr/local/lib/python3.7/dist-packages (from google-auth<3,>=1.6.3->tensorboard~=2.6->tensorflow->onnx2keras) (4.2.4)\n",
            "Requirement already satisfied: requests-oauthlib>=0.7.0 in /usr/local/lib/python3.7/dist-packages (from google-auth-oauthlib<0.5,>=0.4.1->tensorboard~=2.6->tensorflow->onnx2keras) (1.3.0)\n",
            "Requirement already satisfied: importlib-metadata>=4.4 in /usr/local/lib/python3.7/dist-packages (from markdown>=2.6.8->tensorboard~=2.6->tensorflow->onnx2keras) (4.8.2)\n",
            "Requirement already satisfied: zipp>=0.5 in /usr/local/lib/python3.7/dist-packages (from importlib-metadata>=4.4->markdown>=2.6.8->tensorboard~=2.6->tensorflow->onnx2keras) (3.6.0)\n",
            "Requirement already satisfied: pyasn1<0.5.0,>=0.4.6 in /usr/local/lib/python3.7/dist-packages (from pyasn1-modules>=0.2.1->google-auth<3,>=1.6.3->tensorboard~=2.6->tensorflow->onnx2keras) (0.4.8)\n",
            "Requirement already satisfied: chardet<4,>=3.0.2 in /usr/local/lib/python3.7/dist-packages (from requests<3,>=2.21.0->tensorboard~=2.6->tensorflow->onnx2keras) (3.0.4)\n",
            "Requirement already satisfied: idna<3,>=2.5 in /usr/local/lib/python3.7/dist-packages (from requests<3,>=2.21.0->tensorboard~=2.6->tensorflow->onnx2keras) (2.10)\n",
            "Requirement already satisfied: certifi>=2017.4.17 in /usr/local/lib/python3.7/dist-packages (from requests<3,>=2.21.0->tensorboard~=2.6->tensorflow->onnx2keras) (2021.10.8)\n",
            "Requirement already satisfied: urllib3!=1.25.0,!=1.25.1,<1.26,>=1.21.1 in /usr/local/lib/python3.7/dist-packages (from requests<3,>=2.21.0->tensorboard~=2.6->tensorflow->onnx2keras) (1.24.3)\n",
            "Requirement already satisfied: oauthlib>=3.0.0 in /usr/local/lib/python3.7/dist-packages (from requests-oauthlib>=0.7.0->google-auth-oauthlib<0.5,>=0.4.1->tensorboard~=2.6->tensorflow->onnx2keras) (3.1.1)\n",
            "Building wheels for collected packages: onnx2keras\n",
            "  Building wheel for onnx2keras (setup.py) ... \u001b[?25l\u001b[?25hdone\n",
            "  Created wheel for onnx2keras: filename=onnx2keras-0.0.24-py3-none-any.whl size=24593 sha256=7a754a4ca9ce8a11a986ea96d02abf4214cc518852db370de8ae6f3e0f226549\n",
            "  Stored in directory: /root/.cache/pip/wheels/21/29/29/227fc9f8fed234b12169ae41f979cfadf1dcdbe1b370a5bbb5\n",
            "Successfully built onnx2keras\n",
            "Installing collected packages: onnx, onnxruntime-gpu, onnxruntime, onnx2pytorch, onnx2keras\n",
            "Successfully installed onnx-1.10.2 onnx2keras-0.0.24 onnx2pytorch-0.4.1 onnxruntime-1.4.0 onnxruntime-gpu-1.10.0\n"
          ]
        }
      ]
    },
    {
      "cell_type": "code",
      "source": [
        "!pip install gdown"
      ],
      "metadata": {
        "colab": {
          "base_uri": "https://localhost:8080/"
        },
        "id": "IbQKf5Gd4t5H",
        "outputId": "2dded74a-047f-46ab-89f3-2549b596cf34"
      },
      "execution_count": null,
      "outputs": [
        {
          "output_type": "stream",
          "name": "stdout",
          "text": [
            "Requirement already satisfied: gdown in /usr/local/lib/python3.7/dist-packages (3.6.4)\n",
            "Requirement already satisfied: tqdm in /usr/local/lib/python3.7/dist-packages (from gdown) (4.62.3)\n",
            "Requirement already satisfied: six in /usr/local/lib/python3.7/dist-packages (from gdown) (1.15.0)\n",
            "Requirement already satisfied: requests in /usr/local/lib/python3.7/dist-packages (from gdown) (2.23.0)\n",
            "Requirement already satisfied: certifi>=2017.4.17 in /usr/local/lib/python3.7/dist-packages (from requests->gdown) (2021.10.8)\n",
            "Requirement already satisfied: idna<3,>=2.5 in /usr/local/lib/python3.7/dist-packages (from requests->gdown) (2.10)\n",
            "Requirement already satisfied: urllib3!=1.25.0,!=1.25.1,<1.26,>=1.21.1 in /usr/local/lib/python3.7/dist-packages (from requests->gdown) (1.24.3)\n",
            "Requirement already satisfied: chardet<4,>=3.0.2 in /usr/local/lib/python3.7/dist-packages (from requests->gdown) (3.0.4)\n"
          ]
        }
      ]
    },
    {
      "cell_type": "code",
      "source": [
        "# This is a file I had downloaded earlier from https://github.com/commaai/openpilot/blob/72a736f90e57a7d5845891ea34b17360b6f684d0/models/supercombo.onnx\n",
        "# I couldn't download it using git today — Comma moved the models to LFS and when I try \n",
        "# to download the files using LFS, GitHub says that the repository ran out of its quota.\n",
        "!gdown https://drive.google.com/uc?id=14RmJCLQq8IdjC5KiNH0XL5tZXfYEsIzP"
      ],
      "metadata": {
        "colab": {
          "base_uri": "https://localhost:8080/"
        },
        "id": "o7ytspZY6oKW",
        "outputId": "c69d3471-c7b6-4371-ca95-94daf0cfd307"
      },
      "execution_count": null,
      "outputs": [
        {
          "output_type": "stream",
          "name": "stdout",
          "text": [
            "Downloading...\n",
            "From: https://drive.google.com/uc?id=14RmJCLQq8IdjC5KiNH0XL5tZXfYEsIzP\n",
            "To: /content/supercombo.onnx\n",
            "100% 56.7M/56.7M [00:00<00:00, 122MB/s] \n"
          ]
        }
      ]
    },
    {
      "cell_type": "code",
      "source": [
        "import os, sys\n",
        "import numpy as np\n",
        "import torch\n",
        "import matplotlib.pyplot as plt\n",
        "from matplotlib.cm import get_cmap\n",
        "\n",
        "import onnxruntime as rt\n",
        "import onnx\n",
        "import onnx2pytorch\n",
        "import onnx2keras"
      ],
      "metadata": {
        "id": "r1-mnUGJ2Kdi"
      },
      "execution_count": null,
      "outputs": []
    },
    {
      "cell_type": "markdown",
      "source": [
        "## Convert ONNX model"
      ],
      "metadata": {
        "id": "ApqgbHdm3GRz"
      }
    },
    {
      "cell_type": "code",
      "source": [
        "path_to_onnx_model = 'supercombo.onnx'\n",
        "\n",
        "model = onnx.load(path_to_onnx_model)\n",
        "\n",
        "input_names = [node.name for node in model.graph.input]\n",
        "output_names = [node.name for node in model.graph.output]\n",
        "\n",
        "# onnxruntime\n",
        "providers = ['CUDAExecutionProvider', 'CPUExecutionProvider']\n",
        "onnxruntime_model = rt.InferenceSession(path_to_onnx_model, providers=providers)\n",
        "\n",
        "# pytorch\n",
        "device = torch.device('cuda')\n",
        "pytorch_model = onnx2pytorch.ConvertModel(model).to(device)\n",
        "pytorch_model.requires_grad_(False)\n",
        "pytorch_model.eval()\n",
        "\n",
        "# keras\n",
        "keras_model = onnx2keras.onnx_to_keras(model, input_names, verbose=False)"
      ],
      "metadata": {
        "colab": {
          "base_uri": "https://localhost:8080/"
        },
        "id": "p4v4cpmw3PFv",
        "outputId": "1453f074-b902-45ab-fde2-e419c2c2e2ae"
      },
      "execution_count": null,
      "outputs": [
        {
          "output_type": "stream",
          "name": "stderr",
          "text": [
            "/usr/local/lib/python3.7/dist-packages/onnx2pytorch/convert/layer.py:30: UserWarning: The given NumPy array is not writeable, and PyTorch does not support non-writeable tensors. This means you can write to the underlying (supposedly non-writeable) NumPy array using the tensor. You may want to copy the array to protect its data or make it writeable before converting it to a tensor. This type of warning will be suppressed for the rest of this program. (Triggered internally at  ../torch/csrc/utils/tensor_numpy.cpp:189.)\n",
            "  layer.weight.data = torch.from_numpy(numpy_helper.to_array(weight))\n",
            "Trying to convert multi-output node\n",
            "Trying to convert multi-output node\n"
          ]
        }
      ]
    },
    {
      "cell_type": "markdown",
      "source": [
        "## Run models"
      ],
      "metadata": {
        "id": "nnuQ8X8KA_xo"
      }
    },
    {
      "cell_type": "code",
      "source": [
        "torch_inputs = {\n",
        "    'input_imgs': torch.ones((1, 12, 128, 256), dtype=torch.float32).to(device),\n",
        "    'desire': torch.zeros((1, 8), dtype=torch.float32).to(device),\n",
        "    'traffic_convention': torch.tensor([0, 1], dtype=torch.float32).reshape(1, 2).to(device),\n",
        "    'initial_state': torch.zeros((1, 512), dtype=torch.float32).to(device),\n",
        "}\n",
        "\n",
        "onnx_inputs = {\n",
        "    'input_imgs': np.ones((1, 12, 128, 256), dtype=np.float32),\n",
        "    'desire': np.zeros((1, 8), dtype=np.float32),\n",
        "    'traffic_convention': np.array([0, 1], dtype=np.float32).reshape(1, 2),\n",
        "    'initial_state': np.zeros((1, 512), dtype=np.float32),\n",
        "}\n",
        "\n",
        "keras_inputs = {\n",
        "    'input_imgs': np.ones((1, 12, 128, 256), dtype=np.float32),\n",
        "    'desire': np.zeros((1, 8), dtype=np.float32),\n",
        "    'traffic_convention': np.array([0, 1], dtype=np.float32).reshape(1, 2),\n",
        "    'initial_state': np.zeros((1, 512), dtype=np.float32),\n",
        "}\n",
        "\n",
        "# verify inputs are identical\n",
        "for key in torch_inputs.keys():\n",
        "\n",
        "  torch_val = torch_inputs[key].detach().cpu().numpy()\n",
        "  onnx_val = onnx_inputs[key]\n",
        "  keras_val = keras_inputs[key]\n",
        "\n",
        "  np.testing.assert_equal(torch_val, onnx_val)\n",
        "  np.testing.assert_equal(torch_val, keras_val)\n",
        "\n",
        "\n",
        "# run inference\n",
        "keras_outs = keras_model(keras_inputs)\n",
        "torch_outs = pytorch_model(**torch_inputs)\n",
        "onnxruntime_outs = onnxruntime_model.run(output_names, onnx_inputs)[0]\n",
        "\n",
        "keras_outs = keras_outs.numpy()\n",
        "torch_outs = torch_outs.detach().cpu().numpy()\n",
        "\n",
        "print('Torch outs:', torch_outs.shape)\n",
        "print('Keras outs:', keras_outs.shape)\n",
        "print('onnxruntime outs:', onnxruntime_outs.shape)"
      ],
      "metadata": {
        "colab": {
          "base_uri": "https://localhost:8080/"
        },
        "id": "mKvLPpKz29D3",
        "outputId": "3817be0e-2ecc-4462-e662-dcaff287692d"
      },
      "execution_count": null,
      "outputs": [
        {
          "output_type": "stream",
          "name": "stdout",
          "text": [
            "Torch outs: (1, 6472)\n",
            "Keras outs: (1, 6472)\n",
            "onnxruntime outs: (1, 6472)\n"
          ]
        }
      ]
    },
    {
      "cell_type": "markdown",
      "source": [
        "### 🛑 The issue:"
      ],
      "metadata": {
        "id": "P2urNNAvC2-r"
      }
    },
    {
      "cell_type": "code",
      "source": [
        "torch_keras_diff = np.sum(np.abs(torch_outs - keras_outs))\n",
        "torch_onnx_diff = np.sum(np.abs(torch_outs - onnxruntime_outs))\n",
        "onnx_keras_diff = np.sum(np.abs(onnxruntime_outs - keras_outs))\n",
        "\n",
        "# print diffs\n",
        "print(f'Torch vs Keras: {torch_keras_diff:.3e}')\n",
        "print(f'Torch vs ONNX: {torch_onnx_diff:.3e}')\n",
        "print(f'ONNX vs Keras: {onnx_keras_diff:.3e}')"
      ],
      "metadata": {
        "colab": {
          "base_uri": "https://localhost:8080/"
        },
        "id": "i07QRnB4BLLG",
        "outputId": "98ec4bc3-5c64-4e06-f82b-0b0acde1e4bd"
      },
      "execution_count": null,
      "outputs": [
        {
          "output_type": "stream",
          "name": "stdout",
          "text": [
            "Torch vs Keras: 3.441e+01\n",
            "Torch vs ONNX: 3.439e+01\n",
            "ONNX vs Keras: 1.411e-02\n"
          ]
        }
      ]
    },
    {
      "cell_type": "markdown",
      "source": [
        "## Fix found! 🎉"
      ],
      "metadata": {
        "id": "pNXc9cXIB-Ht"
      }
    },
    {
      "cell_type": "code",
      "source": [
        "# the only change\n",
        "pytorch_model.Elu_907.inplace = False"
      ],
      "metadata": {
        "id": "UccIUCwbGcKs"
      },
      "execution_count": null,
      "outputs": []
    },
    {
      "cell_type": "code",
      "source": [
        "# run inference\n",
        "keras_outs = keras_model(keras_inputs)\n",
        "torch_outs = pytorch_model(**torch_inputs)\n",
        "onnxruntime_outs = onnxruntime_model.run(output_names, onnx_inputs)[0]\n",
        "\n",
        "keras_outs = keras_outs.numpy()\n",
        "torch_outs = torch_outs.detach().cpu().numpy()\n",
        "\n",
        "print('Torch outs:', torch_outs.shape)\n",
        "print('Keras outs:', keras_outs.shape)\n",
        "print('onnxruntime outs:', onnxruntime_outs.shape)"
      ],
      "metadata": {
        "colab": {
          "base_uri": "https://localhost:8080/"
        },
        "id": "S2llR4nOCjVt",
        "outputId": "73b7d160-3157-4e8d-9a58-fd2cb3004b4b"
      },
      "execution_count": null,
      "outputs": [
        {
          "output_type": "stream",
          "name": "stdout",
          "text": [
            "Torch outs: (1, 6472)\n",
            "Keras outs: (1, 6472)\n",
            "onnxruntime outs: (1, 6472)\n"
          ]
        }
      ]
    },
    {
      "cell_type": "code",
      "source": [
        "torch_keras_diff = np.sum(np.abs(torch_outs - keras_outs))\n",
        "torch_onnx_diff = np.sum(np.abs(torch_outs - onnxruntime_outs))\n",
        "onnx_keras_diff = np.sum(np.abs(onnxruntime_outs - keras_outs))\n",
        "\n",
        "# print diffs\n",
        "print(f'Torch vs Keras: {torch_keras_diff:.3e}')\n",
        "print(f'Torch vs ONNX: {torch_onnx_diff:.3e}')\n",
        "print(f'ONNX vs Keras: {onnx_keras_diff:.3e}')"
      ],
      "metadata": {
        "colab": {
          "base_uri": "https://localhost:8080/"
        },
        "id": "r4XJFoWWCnz6",
        "outputId": "d34165bc-f943-41e5-c76f-f29e1ff5febf"
      },
      "execution_count": null,
      "outputs": [
        {
          "output_type": "stream",
          "name": "stdout",
          "text": [
            "Torch vs Keras: 1.408e-02\n",
            "Torch vs ONNX: 8.621e-03\n",
            "ONNX vs Keras: 1.411e-02\n"
          ]
        }
      ]
    },
    {
      "cell_type": "markdown",
      "source": [
        "### Fix explanation\n",
        "\n",
        "It will be clear if you visualize `supercombo.onnx` using https://netron.app/\n",
        "\n",
        "1. `onnx2pytorch` runs the model sequentially, in the order that the layers are defined in the onnx graph, reflected in the onnx layer names (e.g. `ELU_203` is computed right after `Flatten_202`)\n",
        "2. The conv head of the network at the layer `Flatten_202` splits into two branches, one starting with `ELU_203` and another with `Concat_230`\n",
        "3. `ELU_203` mutates the value of `Flatten_202` (due to onnx2pytorch setting `inplace=True` for ELU by default)\n",
        "4. `Concat_230` is then computed with mutated `Flatten_202`\n",
        "\n",
        "**Solution** - ensure operations that immediately follow a split in the network (any multi-output layer) are **NOT in-place**. "
      ],
      "metadata": {
        "id": "eQzQX6PWDJZ6"
      }
    },
    {
      "cell_type": "code",
      "source": [
        ""
      ],
      "metadata": {
        "id": "IJlMocZnCoTm"
      },
      "execution_count": null,
      "outputs": []
    }
  ]
}